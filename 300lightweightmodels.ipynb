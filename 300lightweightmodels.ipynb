{
 "cells": [
  {
   "cell_type": "code",
   "execution_count": 8,
   "metadata": {},
   "outputs": [
    {
     "name": "stdout",
     "output_type": "stream",
     "text": [
      "MAE = 33.73432542798319\n",
      "R²  = 0.9708193898746971\n"
     ]
    }
   ],
   "source": [
    "#Model for 10 Qubits amplitude encoding (300 examples)\n",
    "\n",
    "import joblib\n",
    "from sklearn.metrics import mean_absolute_error, r2_score\n",
    "\n",
    "m       = joblib.load('/Users/franogurlic/Desktop/QSVR_for_predicting_atomization-main/Lightweight trained models/qsvr_best300_coulomb_amp.joblib')\n",
    "svr     = m['svr']\n",
    "K_test  = m['K_test']\n",
    "Y_true  = m['Y_test']\n",
    "Y_mean  = m['Y_mean']\n",
    "Y_std   = m['Y_std']\n",
    "\n",
    "y_pred  = svr.predict(K_test)*Y_std + Y_mean\n",
    "print(\"MAE =\", mean_absolute_error(Y_true, y_pred))\n",
    "print(\"R²  =\", r2_score(Y_true, y_pred))\n",
    "\n"
   ]
  },
  {
   "cell_type": "code",
   "execution_count": 2,
   "metadata": {},
   "outputs": [
    {
     "name": "stdout",
     "output_type": "stream",
     "text": [
      "MAE = 38.86059772660247\n",
      "R²  = 0.9577071284948266\n"
     ]
    }
   ],
   "source": [
    "#Model for 5 Qubits amplitude encoding (300 examples)\n",
    "\n",
    "import joblib, numpy as np\n",
    "from sklearn.metrics import mean_absolute_error, r2_score\n",
    "\n",
    "m      = joblib.load('/Users/franogurlic/Desktop/QSVR_for_predicting_atomization-main/Lightweight_trained_models/qsvr_best300_eig_amp.joblib')\n",
    "y_pred = m['svr'].predict(m['K_test']) * m['Y_std'] + m['Y_mean']\n",
    "print(\"MAE =\", mean_absolute_error(m['Y_test'], y_pred))\n",
    "print(\"R²  =\", r2_score(m['Y_test'], y_pred))\n"
   ]
  },
  {
   "cell_type": "code",
   "execution_count": 3,
   "metadata": {},
   "outputs": [
    {
     "name": "stdout",
     "output_type": "stream",
     "text": [
      "Test MAE = 56.94956169516341\n",
      "Test R²  = 0.6725762352358777\n"
     ]
    }
   ],
   "source": [
    "# #Model for 23 Qubits ZZ feature encoding (300 examples)\n",
    "import joblib\n",
    "from sklearn.metrics import mean_absolute_error, r2_score\n",
    "\n",
    "# 1) Load the saved model + test‐kernel & labels\n",
    "m      = joblib.load('/Users/franogurlic/Desktop/QSVR_for_predicting_atomization-main/Lightweight_trained_models/zz_qsvr_model_with_sv_300.joblib')\n",
    "svr    = m['svr']\n",
    "K_test = m['K_test']\n",
    "Y_true = m['Y_test']\n",
    "\n",
    "# 2) Predict on the cached test kernel\n",
    "Y_pred = svr.predict(K_test)\n",
    "\n",
    "# 3) Compute & print metrics\n",
    "print(\"Test MAE =\", mean_absolute_error(Y_true, Y_pred))\n",
    "print(\"Test R²  =\", r2_score(Y_true, Y_pred))"
   ]
  }
 ],
 "metadata": {
  "kernelspec": {
   "display_name": "thesis_qiskit",
   "language": "python",
   "name": "python3"
  },
  "language_info": {
   "codemirror_mode": {
    "name": "ipython",
    "version": 3
   },
   "file_extension": ".py",
   "mimetype": "text/x-python",
   "name": "python",
   "nbconvert_exporter": "python",
   "pygments_lexer": "ipython3",
   "version": "3.10.13"
  }
 },
 "nbformat": 4,
 "nbformat_minor": 2
}
